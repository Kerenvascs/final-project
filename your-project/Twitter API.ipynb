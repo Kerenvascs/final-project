{
 "cells": [
  {
   "cell_type": "markdown",
   "metadata": {},
   "source": [
    "# Twitter Api conection\n",
    "https://www.kaggle.com/yassinehamdaoui1/twitter-api-with-tweepy"
   ]
  },
  {
   "cell_type": "code",
   "execution_count": 5,
   "metadata": {},
   "outputs": [
    {
     "name": "stdout",
     "output_type": "stream",
     "text": [
      "Collecting tweepy\n",
      "  Downloading https://files.pythonhosted.org/packages/bb/7c/99d51f80f3b77b107ebae2634108717362c059a41384a1810d13e2429a81/tweepy-3.9.0-py2.py3-none-any.whl\n",
      "Requirement already satisfied: requests-oauthlib>=0.7.0 in c:\\anaconda3\\lib\\site-packages (from tweepy) (1.3.0)\n",
      "Requirement already satisfied: requests[socks]>=2.11.1 in c:\\anaconda3\\lib\\site-packages (from tweepy) (2.22.0)\n",
      "Requirement already satisfied: six>=1.10.0 in c:\\anaconda3\\lib\\site-packages (from tweepy) (1.12.0)\n",
      "Requirement already satisfied: oauthlib>=3.0.0 in c:\\anaconda3\\lib\\site-packages (from requests-oauthlib>=0.7.0->tweepy) (3.1.0)\n",
      "Requirement already satisfied: chardet<3.1.0,>=3.0.2 in c:\\anaconda3\\lib\\site-packages (from requests[socks]>=2.11.1->tweepy) (3.0.4)\n",
      "Requirement already satisfied: urllib3!=1.25.0,!=1.25.1,<1.26,>=1.21.1 in c:\\anaconda3\\lib\\site-packages (from requests[socks]>=2.11.1->tweepy) (1.24.2)\n",
      "Requirement already satisfied: idna<2.9,>=2.5 in c:\\anaconda3\\lib\\site-packages (from requests[socks]>=2.11.1->tweepy) (2.8)\n",
      "Requirement already satisfied: certifi>=2017.4.17 in c:\\anaconda3\\lib\\site-packages (from requests[socks]>=2.11.1->tweepy) (2020.4.5.1)\n",
      "Requirement already satisfied: PySocks!=1.5.7,>=1.5.6; extra == \"socks\" in c:\\anaconda3\\lib\\site-packages (from requests[socks]>=2.11.1->tweepy) (1.7.0)\n",
      "Installing collected packages: tweepy\n",
      "Successfully installed tweepy-3.9.0\n",
      "Note: you may need to restart the kernel to use updated packages.\n"
     ]
    },
    {
     "name": "stderr",
     "output_type": "stream",
     "text": [
      "Error processing line 7 of C:\\Anaconda3\\lib\\site-packages\\pywin32.pth:\n",
      "\n",
      "  Traceback (most recent call last):\n",
      "    File \"C:\\Anaconda3\\lib\\site.py\", line 168, in addpackage\n",
      "      exec(line)\n",
      "    File \"<string>\", line 1, in <module>\n",
      "  ModuleNotFoundError: No module named 'pywin32_bootstrap'\n",
      "\n",
      "Remainder of file ignored\n"
     ]
    }
   ],
   "source": [
    "# pip install tweepy"
   ]
  },
  {
   "cell_type": "code",
   "execution_count": 6,
   "metadata": {},
   "outputs": [],
   "source": [
    "import tweepy as tw\n",
    "import pandas as pd"
   ]
  },
  {
   "cell_type": "code",
   "execution_count": 9,
   "metadata": {},
   "outputs": [],
   "source": [
    "consumer_key = 'LAVVRNSlFCFDhtkDRgEkq1ZjJ'\n",
    "consumer_secret = '3vt9aPXwsYdfSFKL5VxxlYEwafQHGNyouQaxnKqmMVtNSy5C9S'\n",
    "bearer_token = 'AAAAAAAAAAAAAAAAAAAAANJiGAEAAAAA3JGDLQVKyurQ%2BbSbimcwgkLE2qM%3D08kR6dq4JJXbwdGf05cWw6yV4kZORUfhEgxAn2wKFK2DsMGLit'\n",
    "access_token = '1284209297904283648-uH6M4Mvm7FPY4bBKKh7qCA2SmBebr5'\n",
    "access_token_secret = 'TMN6VcdYx42kV5a1fX7R90EvE64nfhH63d73fk2PqJXzF'"
   ]
  },
  {
   "cell_type": "code",
   "execution_count": 11,
   "metadata": {},
   "outputs": [],
   "source": [
    "# Authentication\n",
    "auth = tw.OAuthHandler(consumer_key, consumer_secret)\n",
    "auth.set_access_token(access_token, access_token_secret)\n",
    "api = tw.API(auth)"
   ]
  },
  {
   "cell_type": "code",
   "execution_count": 17,
   "metadata": {},
   "outputs": [],
   "source": [
    "# Parameters to getting data\n",
    "search_words =\"Zoom+platform\" # you gonna search by hashtags , the \"+\" stands for concatenating keywords\n",
    "date = \"2020-03-15\" # choose any date with the format \"yyyy-mm-dd\"\n",
    "number_posts = 100 # choose the number of posts available in that day "
   ]
  },
  {
   "cell_type": "code",
   "execution_count": 18,
   "metadata": {},
   "outputs": [],
   "source": [
    "# Requesting\n",
    "posts =[]\n",
    "tweets = tw.Cursor(api.search,q=search_words,lang=\"en\",since=date).items(number_posts)\n",
    "for tweet in tweets:\n",
    "    posts.append([tweet.user.screen_name,tweet.user.location,tweet.text])"
   ]
  },
  {
   "cell_type": "code",
   "execution_count": 19,
   "metadata": {},
   "outputs": [],
   "source": [
    "# Convert to DataFrame\n",
    "df = pd.DataFrame(posts)\n",
    "df.to_csv('data.csv',index=False,header=[\"username\",\"location\",\"text\"])"
   ]
  },
  {
   "cell_type": "code",
   "execution_count": 23,
   "metadata": {},
   "outputs": [
    {
     "data": {
      "text/html": [
       "<div>\n",
       "<style scoped>\n",
       "    .dataframe tbody tr th:only-of-type {\n",
       "        vertical-align: middle;\n",
       "    }\n",
       "\n",
       "    .dataframe tbody tr th {\n",
       "        vertical-align: top;\n",
       "    }\n",
       "\n",
       "    .dataframe thead th {\n",
       "        text-align: right;\n",
       "    }\n",
       "</style>\n",
       "<table border=\"1\" class=\"dataframe\">\n",
       "  <thead>\n",
       "    <tr style=\"text-align: right;\">\n",
       "      <th></th>\n",
       "      <th>0</th>\n",
       "      <th>1</th>\n",
       "      <th>2</th>\n",
       "    </tr>\n",
       "  </thead>\n",
       "  <tbody>\n",
       "    <tr>\n",
       "      <th>0</th>\n",
       "      <td>AbundanceIsBlis</td>\n",
       "      <td></td>\n",
       "      <td>I'm giving away (5) $100 restaurant vouchers, ...</td>\n",
       "    </tr>\n",
       "    <tr>\n",
       "      <th>1</th>\n",
       "      <td>EzekielLucas_</td>\n",
       "      <td>Cambridge, MA</td>\n",
       "      <td>@bencrothers @jackbutcher @blinkist @prestoske...</td>\n",
       "    </tr>\n",
       "    <tr>\n",
       "      <th>2</th>\n",
       "      <td>dulcesitosmios</td>\n",
       "      <td>Tu corazón</td>\n",
       "      <td>RT @diabetessisters: We know support is essent...</td>\n",
       "    </tr>\n",
       "    <tr>\n",
       "      <th>3</th>\n",
       "      <td>DakDread</td>\n",
       "      <td></td>\n",
       "      <td>@Chainbody I think it’s less that and that Zoo...</td>\n",
       "    </tr>\n",
       "    <tr>\n",
       "      <th>4</th>\n",
       "      <td>kairachandelier</td>\n",
       "      <td></td>\n",
       "      <td>friendship ended with @discord. @zoom_us is ou...</td>\n",
       "    </tr>\n",
       "    <tr>\n",
       "      <th>5</th>\n",
       "      <td>diabetessisters</td>\n",
       "      <td>Chicago, IL</td>\n",
       "      <td>We know support is essential, even if it can't...</td>\n",
       "    </tr>\n",
       "    <tr>\n",
       "      <th>6</th>\n",
       "      <td>naubands</td>\n",
       "      <td>Flagstaff, AZ</td>\n",
       "      <td>Happening Now: Friday, July 17 from 1:00-4:00 ...</td>\n",
       "    </tr>\n",
       "    <tr>\n",
       "      <th>7</th>\n",
       "      <td>Sworkit</td>\n",
       "      <td></td>\n",
       "      <td>RT @SheilaVBHPE: We’re excited about these cus...</td>\n",
       "    </tr>\n",
       "    <tr>\n",
       "      <th>8</th>\n",
       "      <td>Tiharyodeji</td>\n",
       "      <td>Abuja, Nigeria</td>\n",
       "      <td>RT @cmdanigeria: ANNOUNCING!\\n\\nCMDA NIGERIA-S...</td>\n",
       "    </tr>\n",
       "    <tr>\n",
       "      <th>9</th>\n",
       "      <td>stevenusdavis</td>\n",
       "      <td>Indiana, USA</td>\n",
       "      <td>That was absolutely terrible. Maybe it was the...</td>\n",
       "    </tr>\n",
       "  </tbody>\n",
       "</table>\n",
       "</div>"
      ],
      "text/plain": [
       "                 0               1  \\\n",
       "0  AbundanceIsBlis                   \n",
       "1    EzekielLucas_   Cambridge, MA   \n",
       "2   dulcesitosmios      Tu corazón   \n",
       "3         DakDread                   \n",
       "4  kairachandelier                   \n",
       "5  diabetessisters     Chicago, IL   \n",
       "6         naubands   Flagstaff, AZ   \n",
       "7          Sworkit                   \n",
       "8      Tiharyodeji  Abuja, Nigeria   \n",
       "9    stevenusdavis    Indiana, USA   \n",
       "\n",
       "                                                   2  \n",
       "0  I'm giving away (5) $100 restaurant vouchers, ...  \n",
       "1  @bencrothers @jackbutcher @blinkist @prestoske...  \n",
       "2  RT @diabetessisters: We know support is essent...  \n",
       "3  @Chainbody I think it’s less that and that Zoo...  \n",
       "4  friendship ended with @discord. @zoom_us is ou...  \n",
       "5  We know support is essential, even if it can't...  \n",
       "6  Happening Now: Friday, July 17 from 1:00-4:00 ...  \n",
       "7  RT @SheilaVBHPE: We’re excited about these cus...  \n",
       "8  RT @cmdanigeria: ANNOUNCING!\\n\\nCMDA NIGERIA-S...  \n",
       "9  That was absolutely terrible. Maybe it was the...  "
      ]
     },
     "execution_count": 23,
     "metadata": {},
     "output_type": "execute_result"
    }
   ],
   "source": [
    "pd.reset_option('display.max_rows')\n",
    "pd.reset_option('display.max_columns')\n",
    "pd.reset_option('display.width')\n",
    "df.head(10)"
   ]
  }
 ],
 "metadata": {
  "kernelspec": {
   "display_name": "Python 3",
   "language": "python",
   "name": "python3"
  },
  "language_info": {
   "codemirror_mode": {
    "name": "ipython",
    "version": 3
   },
   "file_extension": ".py",
   "mimetype": "text/x-python",
   "name": "python",
   "nbconvert_exporter": "python",
   "pygments_lexer": "ipython3",
   "version": "3.7.3"
  }
 },
 "nbformat": 4,
 "nbformat_minor": 2
}
