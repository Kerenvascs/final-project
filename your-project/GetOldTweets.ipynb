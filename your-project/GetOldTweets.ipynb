{
 "cells": [
  {
   "cell_type": "markdown",
   "metadata": {},
   "source": [
    "# Get Old Tweets\n",
    "Downloading tweets using a Python 3 library and a corresponding command line utility for accessing old tweets.\n",
    "https://pypi.org/project/GetOldTweets3/"
   ]
  },
  {
   "cell_type": "code",
   "execution_count": 1,
   "metadata": {},
   "outputs": [],
   "source": [
    "# pip install GetOldTweets3"
   ]
  },
  {
   "cell_type": "code",
   "execution_count": 2,
   "metadata": {},
   "outputs": [],
   "source": [
    "import GetOldTweets3 as got\n",
    "import pandas as pd"
   ]
  },
  {
   "cell_type": "markdown",
   "metadata": {},
   "source": [
    "### TwitterCriteria: A collection of search parameters to be used together with TweetManager.\n",
    "\n",
    "- setUsername (str or iterable): An optional specific username(s) from a twitter account (with or without \"@\").\n",
    "- setSince (str. \"yyyy-mm-dd\"): A lower bound date (UTC) to restrict search.\n",
    "- setUntil (str. \"yyyy-mm-dd\"): An upper bound date (not included) to restrict search.\n",
    "- setQuerySearch (str): A query text to be matched.\n",
    "- setTopTweets (bool): If True only the Top Tweets will be retrieved.\n",
    "- setNear(str): A reference location area from where tweets were generated.\n",
    "- setWithin (str): A distance radius from \"near\" location (e.g. 15mi).\n",
    "- setMaxTweets (int): The maximum number of tweets to be retrieved. If this number is unsetted or lower than 1 all possible tweets will be retrieved."
   ]
  },
  {
   "cell_type": "markdown",
   "metadata": {},
   "source": [
    "### Get tweets by query search"
   ]
  },
  {
   "cell_type": "code",
   "execution_count": 3,
   "metadata": {},
   "outputs": [
    {
     "name": "stdout",
     "output_type": "stream",
     "text": [
      "[106] Europe's Refugees &amp; American Elections w/ Chris Hedges https://youtu.be/GYqgj3l4r18 via @YouTube\n"
     ]
    }
   ],
   "source": [
    "# Example:\n",
    "tweetCriteria = got.manager.TweetCriteria().setQuerySearch('europe refugees')\\\n",
    "                                           .setSince(\"2015-05-01\")\\\n",
    "                                           .setUntil(\"2015-09-30\")\\\n",
    "                                           .setMaxTweets(1)\n",
    "tweet = got.manager.TweetManager.getTweets(tweetCriteria)[0]\n",
    "print(tweet.text)"
   ]
  },
  {
   "cell_type": "markdown",
   "metadata": {},
   "source": [
    "### Defining criteria"
   ]
  },
  {
   "cell_type": "code",
   "execution_count": 4,
   "metadata": {},
   "outputs": [],
   "source": [
    "country = 'portugal'\n",
    "query_search = 'Uber Eats'\n",
    "start_date = '2020-03-15'\n",
    "end_date = '2020-07-15'\n",
    "max_tweets = 10000"
   ]
  },
  {
   "cell_type": "markdown",
   "metadata": {},
   "source": [
    "### Requesting by criterias"
   ]
  },
  {
   "cell_type": "code",
   "execution_count": 5,
   "metadata": {},
   "outputs": [
    {
     "name": "stdout",
     "output_type": "stream",
     "text": [
      "21\n"
     ]
    }
   ],
   "source": [
    "tweetCriteria = got.manager.TweetCriteria().setQuerySearch(query_search)\\\n",
    "                                           .setSince(start_date)\\\n",
    "                                           .setUntil(end_date)\\\n",
    "                                           .setMaxTweets(max_tweets)\\\n",
    "                                           .setEmoji(\"unicode\")\\\n",
    "                                           .setNear(country)\n",
    "\n",
    "tweet = got.manager.TweetManager.getTweets(tweetCriteria)\n",
    "print(len(tweet))"
   ]
  },
  {
   "cell_type": "markdown",
   "metadata": {},
   "source": [
    "# Searching in multiple countries"
   ]
  },
  {
   "cell_type": "code",
   "execution_count": 97,
   "metadata": {},
   "outputs": [],
   "source": [
    "locations = ['lisboa', 'porto']\n",
    "query_search = 'Uber Eats'\n",
    "start_date = '2020-03-15'\n",
    "end_date = '2020-07-15'\n",
    "max_tweets = 10000"
   ]
  },
  {
   "cell_type": "code",
   "execution_count": 98,
   "metadata": {},
   "outputs": [],
   "source": [
    "# select for multiple countries\n",
    "tweetCriteria_list = []\n",
    "for location in locations:\n",
    "    tweetCriteria = got.manager.TweetCriteria().setQuerySearch(query_search)\\\n",
    "                                           .setSince(start_date)\\\n",
    "                                           .setUntil(end_date)\\\n",
    "                                           .setMaxTweets(max_tweets)\\\n",
    "                                           .setEmoji(\"unicode\")\\\n",
    "                                           .setNear(location)\n",
    "    tweetCriteria_list.append(tweetCriteria)"
   ]
  },
  {
   "cell_type": "code",
   "execution_count": 100,
   "metadata": {},
   "outputs": [],
   "source": [
    "#create twitter info for each city\n",
    "tweet_dict = {}\n",
    "for criteria, location in zip(tweetCriteria_list, locations):\n",
    "    tweets = got.manager.TweetManager.getTweets(criteria)\n",
    "    tweet_dict[location] = tweets"
   ]
  },
  {
   "cell_type": "code",
   "execution_count": 101,
   "metadata": {},
   "outputs": [],
   "source": [
    "#create df\n",
    "tweet_df = pd.DataFrame(dict([ (k,pd.Series(v)) for k,v in tweet_dict.items() ]))\n",
    "tweet_df['tweet_count'] = tweet_df.index\n",
    "tweet_df = pd.melt(tweet_df, id_vars=[\"tweet_count\"], var_name='Contry', value_name='got_criteria')\n",
    "tweet_df = tweet_df.dropna()"
   ]
  },
  {
   "cell_type": "code",
   "execution_count": 102,
   "metadata": {},
   "outputs": [
    {
     "name": "stdout",
     "output_type": "stream",
     "text": [
      "307\n"
     ]
    },
    {
     "data": {
      "text/html": [
       "<div>\n",
       "<style scoped>\n",
       "    .dataframe tbody tr th:only-of-type {\n",
       "        vertical-align: middle;\n",
       "    }\n",
       "\n",
       "    .dataframe tbody tr th {\n",
       "        vertical-align: top;\n",
       "    }\n",
       "\n",
       "    .dataframe thead th {\n",
       "        text-align: right;\n",
       "    }\n",
       "</style>\n",
       "<table border=\"1\" class=\"dataframe\">\n",
       "  <thead>\n",
       "    <tr style=\"text-align: right;\">\n",
       "      <th></th>\n",
       "      <th>tweet_count</th>\n",
       "      <th>Contry</th>\n",
       "      <th>got_criteria</th>\n",
       "    </tr>\n",
       "  </thead>\n",
       "  <tbody>\n",
       "    <tr>\n",
       "      <th>0</th>\n",
       "      <td>0</td>\n",
       "      <td>lisboa</td>\n",
       "      <td>&lt;GetOldTweets3.models.Tweet.Tweet object at 0x...</td>\n",
       "    </tr>\n",
       "    <tr>\n",
       "      <th>1</th>\n",
       "      <td>1</td>\n",
       "      <td>lisboa</td>\n",
       "      <td>&lt;GetOldTweets3.models.Tweet.Tweet object at 0x...</td>\n",
       "    </tr>\n",
       "    <tr>\n",
       "      <th>2</th>\n",
       "      <td>2</td>\n",
       "      <td>lisboa</td>\n",
       "      <td>&lt;GetOldTweets3.models.Tweet.Tweet object at 0x...</td>\n",
       "    </tr>\n",
       "    <tr>\n",
       "      <th>3</th>\n",
       "      <td>3</td>\n",
       "      <td>lisboa</td>\n",
       "      <td>&lt;GetOldTweets3.models.Tweet.Tweet object at 0x...</td>\n",
       "    </tr>\n",
       "    <tr>\n",
       "      <th>4</th>\n",
       "      <td>4</td>\n",
       "      <td>lisboa</td>\n",
       "      <td>&lt;GetOldTweets3.models.Tweet.Tweet object at 0x...</td>\n",
       "    </tr>\n",
       "  </tbody>\n",
       "</table>\n",
       "</div>"
      ],
      "text/plain": [
       "   tweet_count  Contry                                       got_criteria\n",
       "0            0  lisboa  <GetOldTweets3.models.Tweet.Tweet object at 0x...\n",
       "1            1  lisboa  <GetOldTweets3.models.Tweet.Tweet object at 0x...\n",
       "2            2  lisboa  <GetOldTweets3.models.Tweet.Tweet object at 0x...\n",
       "3            3  lisboa  <GetOldTweets3.models.Tweet.Tweet object at 0x...\n",
       "4            4  lisboa  <GetOldTweets3.models.Tweet.Tweet object at 0x..."
      ]
     },
     "execution_count": 102,
     "metadata": {},
     "output_type": "execute_result"
    }
   ],
   "source": [
    "print(len(tweet_df))\n",
    "tweet_df.head()"
   ]
  },
  {
   "cell_type": "code",
   "execution_count": 105,
   "metadata": {},
   "outputs": [
    {
     "data": {
      "text/plain": [
       "'Esquece o jejum. Isso faz mal à alma. A menos que permita um copo de branco fresquinho... Que por sua vez pede um aperitivo... que por sua vez pede... Ubereats'"
      ]
     },
     "execution_count": 105,
     "metadata": {},
     "output_type": "execute_result"
    }
   ],
   "source": [
    "tweet_df['got_criteria'][2].text"
   ]
  },
  {
   "cell_type": "markdown",
   "metadata": {},
   "source": [
    "# Extract Info"
   ]
  },
  {
   "cell_type": "code",
   "execution_count": 106,
   "metadata": {},
   "outputs": [],
   "source": [
    "#create a function to extract twitter information into a pandas df\n",
    "def get_twitter_info():\n",
    "    tweet_df[\"body\"] = tweet_df[\"got_criteria\"].apply(lambda x: x.text)\n",
    "    tweet_df[\"date\"] = tweet_df[\"got_criteria\"].apply(lambda x: x.date)\n",
    "    tweet_df[\"hashtags\"] = tweet_df[\"got_criteria\"].apply(lambda x: x.hashtags)\n",
    "    tweet_df[\"link\"] = tweet_df[\"got_criteria\"].apply(lambda x: x.permalink)"
   ]
  },
  {
   "cell_type": "code",
   "execution_count": 34,
   "metadata": {},
   "outputs": [
    {
     "data": {
      "text/html": [
       "<div>\n",
       "<style scoped>\n",
       "    .dataframe tbody tr th:only-of-type {\n",
       "        vertical-align: middle;\n",
       "    }\n",
       "\n",
       "    .dataframe tbody tr th {\n",
       "        vertical-align: top;\n",
       "    }\n",
       "\n",
       "    .dataframe thead th {\n",
       "        text-align: right;\n",
       "    }\n",
       "</style>\n",
       "<table border=\"1\" class=\"dataframe\">\n",
       "  <thead>\n",
       "    <tr style=\"text-align: right;\">\n",
       "      <th></th>\n",
       "      <th>tweet_count</th>\n",
       "      <th>Contry</th>\n",
       "      <th>got_criteria</th>\n",
       "      <th>body</th>\n",
       "    </tr>\n",
       "  </thead>\n",
       "  <tbody>\n",
       "    <tr>\n",
       "      <th>0</th>\n",
       "      <td>0</td>\n",
       "      <td>portugal</td>\n",
       "      <td>&lt;GetOldTweets3.models.Tweet.Tweet object at 0x...</td>\n",
       "      <td>Máscara será obrigatória em ambientes fechados...</td>\n",
       "    </tr>\n",
       "    <tr>\n",
       "      <th>1</th>\n",
       "      <td>1</td>\n",
       "      <td>portugal</td>\n",
       "      <td>&lt;GetOldTweets3.models.Tweet.Tweet object at 0x...</td>\n",
       "      <td>Covid-19: fase final dos ensaios clínicos de v...</td>\n",
       "    </tr>\n",
       "    <tr>\n",
       "      <th>2</th>\n",
       "      <td>2</td>\n",
       "      <td>portugal</td>\n",
       "      <td>&lt;GetOldTweets3.models.Tweet.Tweet object at 0x...</td>\n",
       "      <td>Saúde: Covid-19: O que mais preocupa as crianç...</td>\n",
       "    </tr>\n",
       "    <tr>\n",
       "      <th>3</th>\n",
       "      <td>3</td>\n",
       "      <td>portugal</td>\n",
       "      <td>&lt;GetOldTweets3.models.Tweet.Tweet object at 0x...</td>\n",
       "      <td>Saúde: Covid-19: O que mais preocupa as crianç...</td>\n",
       "    </tr>\n",
       "    <tr>\n",
       "      <th>4</th>\n",
       "      <td>4</td>\n",
       "      <td>portugal</td>\n",
       "      <td>&lt;GetOldTweets3.models.Tweet.Tweet object at 0x...</td>\n",
       "      <td>Covid-19: Governo não contabiliza prazos duran...</td>\n",
       "    </tr>\n",
       "  </tbody>\n",
       "</table>\n",
       "</div>"
      ],
      "text/plain": [
       "   tweet_count    Contry                                       got_criteria  \\\n",
       "0            0  portugal  <GetOldTweets3.models.Tweet.Tweet object at 0x...   \n",
       "1            1  portugal  <GetOldTweets3.models.Tweet.Tweet object at 0x...   \n",
       "2            2  portugal  <GetOldTweets3.models.Tweet.Tweet object at 0x...   \n",
       "3            3  portugal  <GetOldTweets3.models.Tweet.Tweet object at 0x...   \n",
       "4            4  portugal  <GetOldTweets3.models.Tweet.Tweet object at 0x...   \n",
       "\n",
       "                                                body  \n",
       "0  Máscara será obrigatória em ambientes fechados...  \n",
       "1  Covid-19: fase final dos ensaios clínicos de v...  \n",
       "2  Saúde: Covid-19: O que mais preocupa as crianç...  \n",
       "3  Saúde: Covid-19: O que mais preocupa as crianç...  \n",
       "4  Covid-19: Governo não contabiliza prazos duran...  "
      ]
     },
     "execution_count": 34,
     "metadata": {},
     "output_type": "execute_result"
    }
   ],
   "source": [
    "# # Extrair corpo de texto\n",
    "# def get_text(x):\n",
    "#     return x.text\n",
    "\n",
    "# tweet_df['body'] = tweet_df['got_criteria'].apply(get_text)\n",
    "\n",
    "# tweet_df.head()"
   ]
  },
  {
   "cell_type": "markdown",
   "metadata": {},
   "source": [
    "### Tweet: Model class that describes a specific tweet.\n",
    "\n",
    "- id (str)\n",
    "- permalink (str)\n",
    "- username (str)\n",
    "- to (str)\n",
    "- text (str)\n",
    "- date (datetime) in UTC\n",
    "- retweets (int)\n",
    "- favorites (int)\n",
    "- mentions (str)\n",
    "- hashtags (str)\n",
    "- geo (str)"
   ]
  },
  {
   "cell_type": "markdown",
   "metadata": {},
   "source": [
    "# To do:\n",
    "1. Recuperar os dados e colocar no df\n",
    "2. data cleaning com o mesmo standard do sentiment analysis tutorial\n",
    "3. Run algorithm do sent.ana nesses tweets novos -> label positive or negative\n",
    "4. Clustering dos tweets (unsupervised) -> ver aula de unsupervised learning\n",
    "5. dashboard? -> investing.com"
   ]
  }
 ],
 "metadata": {
  "kernelspec": {
   "display_name": "Python 3",
   "language": "python",
   "name": "python3"
  },
  "language_info": {
   "codemirror_mode": {
    "name": "ipython",
    "version": 3
   },
   "file_extension": ".py",
   "mimetype": "text/x-python",
   "name": "python",
   "nbconvert_exporter": "python",
   "pygments_lexer": "ipython3",
   "version": "3.7.3"
  }
 },
 "nbformat": 4,
 "nbformat_minor": 2
}
