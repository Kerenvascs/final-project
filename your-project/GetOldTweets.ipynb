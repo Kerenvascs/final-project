{
 "cells": [
  {
   "cell_type": "markdown",
   "metadata": {},
   "source": [
    "# Get Old Tweets\n",
    "Downloading old tweets using a Python 3 library and a corresponding command line utility for accessing old tweets.\n",
    "https://pypi.org/project/GetOldTweets3/\n",
    "\n",
    "Usefull to:\n",
    "- Needing access to Tweets older than 1 week (the Twitter API only serves Tweets from the past week)\n",
    "\n",
    "- A large volume of Tweets (Twitter API limits the number of Tweets you can download after around 3,000)"
   ]
  },
  {
   "cell_type": "code",
   "execution_count": 1,
   "metadata": {},
   "outputs": [],
   "source": [
    "# pip install GetOldTweets3"
   ]
  },
  {
   "cell_type": "code",
   "execution_count": 2,
   "metadata": {},
   "outputs": [],
   "source": [
    "import GetOldTweets3 as got\n",
    "import pandas as pd"
   ]
  },
  {
   "cell_type": "markdown",
   "metadata": {},
   "source": [
    "### TwitterCriteria: A collection of search parameters to be used together with TweetManager.\n",
    "\n",
    "- setUsername (str or iterable): An optional specific username(s) from a twitter account (with or without \"@\").\n",
    "- setSince (str. \"yyyy-mm-dd\"): A lower bound date (UTC) to restrict search.\n",
    "- setUntil (str. \"yyyy-mm-dd\"): An upper bound date (not included) to restrict search.\n",
    "- setQuerySearch (str): A query text to be matched.\n",
    "- setTopTweets (bool): If True only the Top Tweets will be retrieved.\n",
    "- setNear(str): A reference location area from where tweets were generated.\n",
    "- setWithin (str): A distance radius from \"near\" location (e.g. 15mi).\n",
    "- setMaxTweets (int): The maximum number of tweets to be retrieved. If this number is unsetted or lower than 1 all possible tweets will be retrieved."
   ]
  },
  {
   "cell_type": "markdown",
   "metadata": {},
   "source": [
    "### Get tweets by query search"
   ]
  },
  {
   "cell_type": "code",
   "execution_count": 3,
   "metadata": {},
   "outputs": [
    {
     "name": "stdout",
     "output_type": "stream",
     "text": [
      "[106] Europe's Refugees &amp; American Elections w/ Chris Hedges https://youtu.be/GYqgj3l4r18 via @YouTube\n"
     ]
    }
   ],
   "source": [
    "# Example:\n",
    "tweetCriteria = got.manager.TweetCriteria().setQuerySearch('europe refugees')\\\n",
    "                                           .setSince(\"2015-05-01\")\\\n",
    "                                           .setUntil(\"2015-09-30\")\\\n",
    "                                           .setMaxTweets(1)\n",
    "tweet = got.manager.TweetManager.getTweets(tweetCriteria)[0]\n",
    "print(tweet.text)"
   ]
  },
  {
   "cell_type": "markdown",
   "metadata": {},
   "source": [
    "### Defining criteria"
   ]
  },
  {
   "cell_type": "code",
   "execution_count": 4,
   "metadata": {},
   "outputs": [],
   "source": [
    "country = 'portugal'\n",
    "query_search = 'Uber Eats'\n",
    "start_date = '2020-03-15'\n",
    "end_date = '2020-07-15'\n",
    "max_tweets = 10000"
   ]
  },
  {
   "cell_type": "markdown",
   "metadata": {},
   "source": [
    "### Requesting by criterias"
   ]
  },
  {
   "cell_type": "code",
   "execution_count": 5,
   "metadata": {},
   "outputs": [
    {
     "name": "stdout",
     "output_type": "stream",
     "text": [
      "21\n"
     ]
    }
   ],
   "source": [
    "tweetCriteria = got.manager.TweetCriteria().setQuerySearch(query_search)\\\n",
    "                                           .setSince(start_date)\\\n",
    "                                           .setUntil(end_date)\\\n",
    "                                           .setMaxTweets(max_tweets)\\\n",
    "                                           .setEmoji(\"unicode\")\\\n",
    "                                           .setNear(country)\n",
    "\n",
    "tweet = got.manager.TweetManager.getTweets(tweetCriteria)\n",
    "print(len(tweet))"
   ]
  },
  {
   "cell_type": "markdown",
   "metadata": {},
   "source": [
    "# Searching in multiple locations"
   ]
  },
  {
   "cell_type": "code",
   "execution_count": 18,
   "metadata": {},
   "outputs": [],
   "source": [
    "locations = ['New York', 'Los Angeles']\n",
    "query_search = 'Uber Eats'\n",
    "start_date = '2020-03-15'\n",
    "end_date = '2020-07-15'\n",
    "max_tweets = 10000"
   ]
  },
  {
   "cell_type": "code",
   "execution_count": 19,
   "metadata": {},
   "outputs": [],
   "source": [
    "# select for multiple countries\n",
    "tweetCriteria_list = []\n",
    "for location in locations:\n",
    "    tweetCriteria = got.manager.TweetCriteria().setQuerySearch(query_search)\\\n",
    "                                           .setSince(start_date)\\\n",
    "                                           .setUntil(end_date)\\\n",
    "                                           .setMaxTweets(max_tweets)\\\n",
    "                                           .setEmoji(\"unicode\")\\\n",
    "                                           .setNear(location)\n",
    "    tweetCriteria_list.append(tweetCriteria)"
   ]
  },
  {
   "cell_type": "code",
   "execution_count": 20,
   "metadata": {},
   "outputs": [],
   "source": [
    "#create twitter info for each city\n",
    "tweet_dict = {}\n",
    "for criteria, location in zip(tweetCriteria_list, locations):\n",
    "    tweets = got.manager.TweetManager.getTweets(criteria)\n",
    "    tweet_dict[location] = tweets"
   ]
  },
  {
   "cell_type": "code",
   "execution_count": 21,
   "metadata": {},
   "outputs": [],
   "source": [
    "#create df\n",
    "tweet_df = pd.DataFrame(dict([ (k,pd.Series(v)) for k,v in tweet_dict.items() ]))\n",
    "tweet_df['tweet_count'] = tweet_df.index\n",
    "tweet_df = pd.melt(tweet_df, id_vars=[\"tweet_count\"], var_name='city', value_name='got_criteria')\n",
    "tweet_df = tweet_df.dropna()"
   ]
  },
  {
   "cell_type": "code",
   "execution_count": 22,
   "metadata": {},
   "outputs": [
    {
     "name": "stdout",
     "output_type": "stream",
     "text": [
      "3412\n"
     ]
    },
    {
     "data": {
      "text/html": [
       "<div>\n",
       "<style scoped>\n",
       "    .dataframe tbody tr th:only-of-type {\n",
       "        vertical-align: middle;\n",
       "    }\n",
       "\n",
       "    .dataframe tbody tr th {\n",
       "        vertical-align: top;\n",
       "    }\n",
       "\n",
       "    .dataframe thead th {\n",
       "        text-align: right;\n",
       "    }\n",
       "</style>\n",
       "<table border=\"1\" class=\"dataframe\">\n",
       "  <thead>\n",
       "    <tr style=\"text-align: right;\">\n",
       "      <th></th>\n",
       "      <th>tweet_count</th>\n",
       "      <th>city</th>\n",
       "      <th>got_criteria</th>\n",
       "    </tr>\n",
       "  </thead>\n",
       "  <tbody>\n",
       "    <tr>\n",
       "      <th>0</th>\n",
       "      <td>0</td>\n",
       "      <td>New York</td>\n",
       "      <td>&lt;GetOldTweets3.models.Tweet.Tweet object at 0x...</td>\n",
       "    </tr>\n",
       "    <tr>\n",
       "      <th>1</th>\n",
       "      <td>1</td>\n",
       "      <td>New York</td>\n",
       "      <td>&lt;GetOldTweets3.models.Tweet.Tweet object at 0x...</td>\n",
       "    </tr>\n",
       "    <tr>\n",
       "      <th>2</th>\n",
       "      <td>2</td>\n",
       "      <td>New York</td>\n",
       "      <td>&lt;GetOldTweets3.models.Tweet.Tweet object at 0x...</td>\n",
       "    </tr>\n",
       "    <tr>\n",
       "      <th>3</th>\n",
       "      <td>3</td>\n",
       "      <td>New York</td>\n",
       "      <td>&lt;GetOldTweets3.models.Tweet.Tweet object at 0x...</td>\n",
       "    </tr>\n",
       "    <tr>\n",
       "      <th>4</th>\n",
       "      <td>4</td>\n",
       "      <td>New York</td>\n",
       "      <td>&lt;GetOldTweets3.models.Tweet.Tweet object at 0x...</td>\n",
       "    </tr>\n",
       "  </tbody>\n",
       "</table>\n",
       "</div>"
      ],
      "text/plain": [
       "   tweet_count      city                                       got_criteria\n",
       "0            0  New York  <GetOldTweets3.models.Tweet.Tweet object at 0x...\n",
       "1            1  New York  <GetOldTweets3.models.Tweet.Tweet object at 0x...\n",
       "2            2  New York  <GetOldTweets3.models.Tweet.Tweet object at 0x...\n",
       "3            3  New York  <GetOldTweets3.models.Tweet.Tweet object at 0x...\n",
       "4            4  New York  <GetOldTweets3.models.Tweet.Tweet object at 0x..."
      ]
     },
     "execution_count": 22,
     "metadata": {},
     "output_type": "execute_result"
    }
   ],
   "source": [
    "print(len(tweet_df))\n",
    "tweet_df.head()"
   ]
  },
  {
   "cell_type": "code",
   "execution_count": 29,
   "metadata": {},
   "outputs": [
    {
     "data": {
      "text/plain": [
       "'Yea they’re terrible smh. @UberEats @Uber_Support'"
      ]
     },
     "execution_count": 29,
     "metadata": {},
     "output_type": "execute_result"
    }
   ],
   "source": [
    "tweet_df['got_criteria'][1].text"
   ]
  },
  {
   "cell_type": "markdown",
   "metadata": {},
   "source": [
    "# Extract Info"
   ]
  },
  {
   "cell_type": "markdown",
   "metadata": {},
   "source": [
    "### Tweet: Model class that describes a specific tweet.\n",
    "\n",
    "- id (str)\n",
    "- permalink (str)\n",
    "- username (str)\n",
    "- to (str)\n",
    "- text (str)\n",
    "- date (datetime) in UTC\n",
    "- retweets (int)\n",
    "- favorites (int)\n",
    "- mentions (str)\n",
    "- hashtags (str)\n",
    "- geo (str)"
   ]
  },
  {
   "cell_type": "code",
   "execution_count": 30,
   "metadata": {},
   "outputs": [],
   "source": [
    "#create a function to extract twitter information into a pandas df\n",
    "def get_twitter_info():\n",
    "    tweet_df[\"body\"] = tweet_df[\"got_criteria\"].apply(lambda x: x.text)\n",
    "    tweet_df[\"date\"] = tweet_df[\"got_criteria\"].apply(lambda x: x.date)\n",
    "    tweet_df[\"hashtags\"] = tweet_df[\"got_criteria\"].apply(lambda x: x.hashtags)\n",
    "    tweet_df[\"link\"] = tweet_df[\"got_criteria\"].apply(lambda x: x.permalink)\n",
    "    tweet_df['geo'] = tweet_df['got_criteria'].apply(lambda x: x.geo)"
   ]
  },
  {
   "cell_type": "code",
   "execution_count": 31,
   "metadata": {},
   "outputs": [
    {
     "data": {
      "text/html": [
       "<div>\n",
       "<style scoped>\n",
       "    .dataframe tbody tr th:only-of-type {\n",
       "        vertical-align: middle;\n",
       "    }\n",
       "\n",
       "    .dataframe tbody tr th {\n",
       "        vertical-align: top;\n",
       "    }\n",
       "\n",
       "    .dataframe thead th {\n",
       "        text-align: right;\n",
       "    }\n",
       "</style>\n",
       "<table border=\"1\" class=\"dataframe\">\n",
       "  <thead>\n",
       "    <tr style=\"text-align: right;\">\n",
       "      <th></th>\n",
       "      <th>tweet_count</th>\n",
       "      <th>city</th>\n",
       "      <th>body</th>\n",
       "      <th>date</th>\n",
       "      <th>hashtags</th>\n",
       "      <th>link</th>\n",
       "      <th>geo</th>\n",
       "    </tr>\n",
       "  </thead>\n",
       "  <tbody>\n",
       "    <tr>\n",
       "      <th>0</th>\n",
       "      <td>0</td>\n",
       "      <td>New York</td>\n",
       "      <td>@UberEats Promo Code never works for 50%. what...</td>\n",
       "      <td>2020-07-14 23:57:38+00:00</td>\n",
       "      <td></td>\n",
       "      <td>https://twitter.com/FashionsWeek/status/128318...</td>\n",
       "      <td></td>\n",
       "    </tr>\n",
       "    <tr>\n",
       "      <th>1</th>\n",
       "      <td>1</td>\n",
       "      <td>New York</td>\n",
       "      <td>Yea they’re terrible smh. @UberEats @Uber_Support</td>\n",
       "      <td>2020-07-14 23:36:33+00:00</td>\n",
       "      <td></td>\n",
       "      <td>https://twitter.com/kensthetic_/status/1283183...</td>\n",
       "      <td></td>\n",
       "    </tr>\n",
       "    <tr>\n",
       "      <th>2</th>\n",
       "      <td>2</td>\n",
       "      <td>New York</td>\n",
       "      <td>@UberEats when are you coming to upstate ny?</td>\n",
       "      <td>2020-07-14 23:33:33+00:00</td>\n",
       "      <td></td>\n",
       "      <td>https://twitter.com/Thebobover/status/12831828...</td>\n",
       "      <td></td>\n",
       "    </tr>\n",
       "    <tr>\n",
       "      <th>3</th>\n",
       "      <td>3</td>\n",
       "      <td>New York</td>\n",
       "      <td>@diginn why does the dig inn app and @UberEats...</td>\n",
       "      <td>2020-07-14 23:30:41+00:00</td>\n",
       "      <td></td>\n",
       "      <td>https://twitter.com/Hot4TaterTots/status/12831...</td>\n",
       "      <td></td>\n",
       "    </tr>\n",
       "    <tr>\n",
       "      <th>4</th>\n",
       "      <td>4</td>\n",
       "      <td>New York</td>\n",
       "      <td>For my brother to have his Uber job back! He h...</td>\n",
       "      <td>2020-07-14 23:04:47+00:00</td>\n",
       "      <td></td>\n",
       "      <td>https://twitter.com/Rayofshine69/status/128317...</td>\n",
       "      <td></td>\n",
       "    </tr>\n",
       "  </tbody>\n",
       "</table>\n",
       "</div>"
      ],
      "text/plain": [
       "   tweet_count      city                                               body  \\\n",
       "0            0  New York  @UberEats Promo Code never works for 50%. what...   \n",
       "1            1  New York  Yea they’re terrible smh. @UberEats @Uber_Support   \n",
       "2            2  New York       @UberEats when are you coming to upstate ny?   \n",
       "3            3  New York  @diginn why does the dig inn app and @UberEats...   \n",
       "4            4  New York  For my brother to have his Uber job back! He h...   \n",
       "\n",
       "                       date hashtags  \\\n",
       "0 2020-07-14 23:57:38+00:00            \n",
       "1 2020-07-14 23:36:33+00:00            \n",
       "2 2020-07-14 23:33:33+00:00            \n",
       "3 2020-07-14 23:30:41+00:00            \n",
       "4 2020-07-14 23:04:47+00:00            \n",
       "\n",
       "                                                link geo  \n",
       "0  https://twitter.com/FashionsWeek/status/128318...      \n",
       "1  https://twitter.com/kensthetic_/status/1283183...      \n",
       "2  https://twitter.com/Thebobover/status/12831828...      \n",
       "3  https://twitter.com/Hot4TaterTots/status/12831...      \n",
       "4  https://twitter.com/Rayofshine69/status/128317...      "
      ]
     },
     "execution_count": 31,
     "metadata": {},
     "output_type": "execute_result"
    }
   ],
   "source": [
    "get_twitter_info()\n",
    "tweet_df = tweet_df.drop(\"got_criteria\", 1)\n",
    "tweet_df.head()"
   ]
  },
  {
   "cell_type": "code",
   "execution_count": 32,
   "metadata": {},
   "outputs": [],
   "source": [
    "tweet_df.to_csv('old_tweets.csv',index=False)"
   ]
  }
 ],
 "metadata": {
  "kernelspec": {
   "display_name": "Python 3",
   "language": "python",
   "name": "python3"
  },
  "language_info": {
   "codemirror_mode": {
    "name": "ipython",
    "version": 3
   },
   "file_extension": ".py",
   "mimetype": "text/x-python",
   "name": "python",
   "nbconvert_exporter": "python",
   "pygments_lexer": "ipython3",
   "version": "3.7.3"
  }
 },
 "nbformat": 4,
 "nbformat_minor": 2
}
