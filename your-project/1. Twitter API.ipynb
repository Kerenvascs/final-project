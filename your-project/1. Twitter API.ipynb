{
 "cells": [
  {
   "cell_type": "markdown",
   "metadata": {},
   "source": [
    "# Twitter Api conection\n",
    "https://www.kaggle.com/yassinehamdaoui1/twitter-api-with-tweepy"
   ]
  },
  {
   "cell_type": "code",
   "execution_count": 5,
   "metadata": {},
   "outputs": [
    {
     "name": "stdout",
     "output_type": "stream",
     "text": [
      "Collecting tweepy\n",
      "  Downloading https://files.pythonhosted.org/packages/bb/7c/99d51f80f3b77b107ebae2634108717362c059a41384a1810d13e2429a81/tweepy-3.9.0-py2.py3-none-any.whl\n",
      "Requirement already satisfied: requests-oauthlib>=0.7.0 in c:\\anaconda3\\lib\\site-packages (from tweepy) (1.3.0)\n",
      "Requirement already satisfied: requests[socks]>=2.11.1 in c:\\anaconda3\\lib\\site-packages (from tweepy) (2.22.0)\n",
      "Requirement already satisfied: six>=1.10.0 in c:\\anaconda3\\lib\\site-packages (from tweepy) (1.12.0)\n",
      "Requirement already satisfied: oauthlib>=3.0.0 in c:\\anaconda3\\lib\\site-packages (from requests-oauthlib>=0.7.0->tweepy) (3.1.0)\n",
      "Requirement already satisfied: chardet<3.1.0,>=3.0.2 in c:\\anaconda3\\lib\\site-packages (from requests[socks]>=2.11.1->tweepy) (3.0.4)\n",
      "Requirement already satisfied: urllib3!=1.25.0,!=1.25.1,<1.26,>=1.21.1 in c:\\anaconda3\\lib\\site-packages (from requests[socks]>=2.11.1->tweepy) (1.24.2)\n",
      "Requirement already satisfied: idna<2.9,>=2.5 in c:\\anaconda3\\lib\\site-packages (from requests[socks]>=2.11.1->tweepy) (2.8)\n",
      "Requirement already satisfied: certifi>=2017.4.17 in c:\\anaconda3\\lib\\site-packages (from requests[socks]>=2.11.1->tweepy) (2020.4.5.1)\n",
      "Requirement already satisfied: PySocks!=1.5.7,>=1.5.6; extra == \"socks\" in c:\\anaconda3\\lib\\site-packages (from requests[socks]>=2.11.1->tweepy) (1.7.0)\n",
      "Installing collected packages: tweepy\n",
      "Successfully installed tweepy-3.9.0\n",
      "Note: you may need to restart the kernel to use updated packages.\n"
     ]
    },
    {
     "name": "stderr",
     "output_type": "stream",
     "text": [
      "Error processing line 7 of C:\\Anaconda3\\lib\\site-packages\\pywin32.pth:\n",
      "\n",
      "  Traceback (most recent call last):\n",
      "    File \"C:\\Anaconda3\\lib\\site.py\", line 168, in addpackage\n",
      "      exec(line)\n",
      "    File \"<string>\", line 1, in <module>\n",
      "  ModuleNotFoundError: No module named 'pywin32_bootstrap'\n",
      "\n",
      "Remainder of file ignored\n"
     ]
    }
   ],
   "source": [
    "# pip install tweepy"
   ]
  },
  {
   "cell_type": "code",
   "execution_count": 1,
   "metadata": {},
   "outputs": [],
   "source": [
    "import tweepy as tw\n",
    "import pandas as pd"
   ]
  },
  {
   "cell_type": "code",
   "execution_count": 2,
   "metadata": {},
   "outputs": [],
   "source": [
    "consumer_key = 'LAVVRNSlFCFDhtkDRgEkq1ZjJ'\n",
    "consumer_secret = '3vt9aPXwsYdfSFKL5VxxlYEwafQHGNyouQaxnKqmMVtNSy5C9S'\n",
    "bearer_token = 'AAAAAAAAAAAAAAAAAAAAANJiGAEAAAAA3JGDLQVKyurQ%2BbSbimcwgkLE2qM%3D08kR6dq4JJXbwdGf05cWw6yV4kZORUfhEgxAn2wKFK2DsMGLit'\n",
    "access_token = '1284209297904283648-uH6M4Mvm7FPY4bBKKh7qCA2SmBebr5'\n",
    "access_token_secret = 'TMN6VcdYx42kV5a1fX7R90EvE64nfhH63d73fk2PqJXzF'"
   ]
  },
  {
   "cell_type": "code",
   "execution_count": 16,
   "metadata": {},
   "outputs": [],
   "source": [
    "# Authentication\n",
    "auth = tw.OAuthHandler(consumer_key, consumer_secret)\n",
    "auth.set_access_token(access_token, access_token_secret)\n",
    "api = tw.API(auth)"
   ]
  },
  {
   "cell_type": "code",
   "execution_count": 28,
   "metadata": {},
   "outputs": [],
   "source": [
    "# Parameters to getting data\n",
    "search_words =\"UberEats\" # you gonna search by hashtags , the \"+\" stands for concatenating keywords\n",
    "date = \"2020-03-15\" # choose any date with the format \"yyyy-mm-dd\"\n",
    "number_posts = 500 # choose the number of posts available in that day "
   ]
  },
  {
   "cell_type": "markdown",
   "metadata": {},
   "source": [
    "# Solve\n",
    "#Como delimitar local?\n",
    "#Como delimitar e ver a data?\n",
    "#Como fazer resquest de posts antigos?\n",
    "#Salvar em txt - json? Ou df?\n",
    "#The Twitter Standard API is limited to Tweets from the last 7–10 days."
   ]
  },
  {
   "cell_type": "code",
   "execution_count": 31,
   "metadata": {},
   "outputs": [],
   "source": [
    "# Requesting\n",
    " # Collect tweets using the Cursor object\n",
    "        # .Cursor() returns an object that you can iterate or loop over to access the data collected.\n",
    "        # Each item in the iterator has various attributes that you can access to get information about each tweet\n",
    "posts =[]\n",
    "tweets = tw.Cursor(api.search,q=search_words,lang=\"en\",since=date).items(number_posts)\n",
    "for tweet in tweets:\n",
    "    posts.append([tweet.user.screen_name,tweet.user.location,tweet.text])"
   ]
  },
  {
   "cell_type": "code",
   "execution_count": 34,
   "metadata": {},
   "outputs": [
    {
     "name": "stdout",
     "output_type": "stream",
     "text": [
      "Tweets obtidos: 500.\n",
      "\n"
     ]
    }
   ],
   "source": [
    "print(\"Tweets obtidos: {}.\\n\".format(len(posts)))"
   ]
  },
  {
   "cell_type": "code",
   "execution_count": 39,
   "metadata": {},
   "outputs": [
    {
     "name": "stdout",
     "output_type": "stream",
     "text": [
      "The first 5 tweets:\n",
      "\n",
      "['yumenoshima', 'Tokyo,Japan', 'Tenya Nakano Store have been  vanished in UberEats App...? https://t.co/GcrIhP3EgF']\n",
      "\n",
      "['ShivaIndianCuis', 'Prahran', '@rasikv @drtushar No sir we are not on UberEats ! They take 35% commision and their drivers don’t care about handling the food.']\n",
      "\n",
      "['fifail', 'Earth', 'Ah shit the guy delivering my UberEATS is the same guy who delivered last time I ordered. How do I select a different delivery guy? Help.']\n",
      "\n",
      "['ShieldVoC', 'Stockholm, Sweden', 'RT @TheNewbWriter: Can someone help me or is your system just absolute garbage??? I’ve been waiting on my food for nearly an hour now and I…']\n",
      "\n",
      "['tropicsyogurt', \"not in a woman's business\", 'RT @sgretributionv5: Guy has been outside this primary school for like ten mins now. Explain? @UberEats https://t.co/70kZXpAZyh']\n",
      "\n"
     ]
    }
   ],
   "source": [
    "print(\"The first 5 tweets:\\n\")\n",
    "for tweet in posts[:5]:\n",
    "    print(tweet)\n",
    "    print()"
   ]
  },
  {
   "cell_type": "code",
   "execution_count": 43,
   "metadata": {},
   "outputs": [],
   "source": [
    "# # Métodos internos dentro de um tweet de Tweepy\n",
    "# print(dir(posts[0]))"
   ]
  },
  {
   "cell_type": "code",
   "execution_count": 44,
   "metadata": {},
   "outputs": [],
   "source": [
    "# Convert to DataFrame\n",
    "df = pd.DataFrame(posts)\n",
    "df.to_csv('tweets.csv',index=False,header=[\"username\",\"location\",\"text\"])"
   ]
  },
  {
   "cell_type": "code",
   "execution_count": 45,
   "metadata": {},
   "outputs": [
    {
     "data": {
      "text/html": [
       "<div>\n",
       "<style scoped>\n",
       "    .dataframe tbody tr th:only-of-type {\n",
       "        vertical-align: middle;\n",
       "    }\n",
       "\n",
       "    .dataframe tbody tr th {\n",
       "        vertical-align: top;\n",
       "    }\n",
       "\n",
       "    .dataframe thead th {\n",
       "        text-align: right;\n",
       "    }\n",
       "</style>\n",
       "<table border=\"1\" class=\"dataframe\">\n",
       "  <thead>\n",
       "    <tr style=\"text-align: right;\">\n",
       "      <th></th>\n",
       "      <th>username</th>\n",
       "      <th>location</th>\n",
       "      <th>text</th>\n",
       "    </tr>\n",
       "  </thead>\n",
       "  <tbody>\n",
       "    <tr>\n",
       "      <th>0</th>\n",
       "      <td>yumenoshima</td>\n",
       "      <td>Tokyo,Japan</td>\n",
       "      <td>Tenya Nakano Store have been  vanished in Uber...</td>\n",
       "    </tr>\n",
       "    <tr>\n",
       "      <th>1</th>\n",
       "      <td>ShivaIndianCuis</td>\n",
       "      <td>Prahran</td>\n",
       "      <td>@rasikv @drtushar No sir we are not on UberEat...</td>\n",
       "    </tr>\n",
       "    <tr>\n",
       "      <th>2</th>\n",
       "      <td>fifail</td>\n",
       "      <td>Earth</td>\n",
       "      <td>Ah shit the guy delivering my UberEATS is the ...</td>\n",
       "    </tr>\n",
       "    <tr>\n",
       "      <th>3</th>\n",
       "      <td>ShieldVoC</td>\n",
       "      <td>Stockholm, Sweden</td>\n",
       "      <td>RT @TheNewbWriter: Can someone help me or is y...</td>\n",
       "    </tr>\n",
       "    <tr>\n",
       "      <th>4</th>\n",
       "      <td>tropicsyogurt</td>\n",
       "      <td>not in a woman's business</td>\n",
       "      <td>RT @sgretributionv5: Guy has been outside this...</td>\n",
       "    </tr>\n",
       "  </tbody>\n",
       "</table>\n",
       "</div>"
      ],
      "text/plain": [
       "          username                   location  \\\n",
       "0      yumenoshima                Tokyo,Japan   \n",
       "1  ShivaIndianCuis                    Prahran   \n",
       "2           fifail                      Earth   \n",
       "3        ShieldVoC          Stockholm, Sweden   \n",
       "4    tropicsyogurt  not in a woman's business   \n",
       "\n",
       "                                                text  \n",
       "0  Tenya Nakano Store have been  vanished in Uber...  \n",
       "1  @rasikv @drtushar No sir we are not on UberEat...  \n",
       "2  Ah shit the guy delivering my UberEATS is the ...  \n",
       "3  RT @TheNewbWriter: Can someone help me or is y...  \n",
       "4  RT @sgretributionv5: Guy has been outside this...  "
      ]
     },
     "execution_count": 45,
     "metadata": {},
     "output_type": "execute_result"
    }
   ],
   "source": [
    "df = pd.read_csv('tweets.csv')\n",
    "df.head()"
   ]
  }
 ],
 "metadata": {
  "kernelspec": {
   "display_name": "Python 3",
   "language": "python",
   "name": "python3"
  },
  "language_info": {
   "codemirror_mode": {
    "name": "ipython",
    "version": 3
   },
   "file_extension": ".py",
   "mimetype": "text/x-python",
   "name": "python",
   "nbconvert_exporter": "python",
   "pygments_lexer": "ipython3",
   "version": "3.7.3"
  }
 },
 "nbformat": 4,
 "nbformat_minor": 2
}
